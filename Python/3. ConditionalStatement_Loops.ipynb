{
 "cells": [
  {
   "cell_type": "markdown",
   "id": "a2e4d244",
   "metadata": {},
   "source": [
    "Conditional Statements "
   ]
  },
  {
   "cell_type": "code",
   "execution_count": 7,
   "id": "e0ac9492",
   "metadata": {},
   "outputs": [
    {
     "name": "stdout",
     "output_type": "stream",
     "text": [
      "x is positive\n"
     ]
    }
   ],
   "source": [
    "x = 10\n",
    "if x > 0:\n",
    "    print(\"x is positive\")\n",
    "else:\n",
    "    print(\"x is negative\")\n"
   ]
  },
  {
   "cell_type": "markdown",
   "id": "9e06c376",
   "metadata": {},
   "source": [
    "Write a program to take 3 sides lengths and prints whether the tringleis equilateral, isosceles or scalene trianlge."
   ]
  },
  {
   "cell_type": "code",
   "execution_count": 11,
   "id": "ed6ce79c",
   "metadata": {},
   "outputs": [
    {
     "name": "stdout",
     "output_type": "stream",
     "text": [
      "It's a Scalene\n"
     ]
    }
   ],
   "source": [
    "side1 = int(input(\"Enter side 1: \"))\n",
    "side2 = int(input(\"Enter side 2 \"))\n",
    "side3 = int(input(\"Enter side 3: \"))\n",
    "\n",
    "print(\"It's a equilateral \"if side1 == side2 == side3 else( \"It's a Isosceles\" if side1 == side2 or side2 == side3 or side1 == side3 else \"It's a Scalene\"  ))\n"
   ]
  },
  {
   "cell_type": "markdown",
   "id": "5616f70e",
   "metadata": {},
   "source": [
    "Write a program that prints \"Fizz\" if a num is divisible by 3, \"Buzz\" if divisibeby 5, \"FizzBuzz\" if divisble by both, or the number itself otherwise"
   ]
  },
  {
   "cell_type": "code",
   "execution_count": 17,
   "id": "9daf5631",
   "metadata": {},
   "outputs": [
    {
     "name": "stdout",
     "output_type": "stream",
     "text": [
      "FizzBuzz\n"
     ]
    }
   ],
   "source": [
    "a = int(input(\"Enter a Number: \"))\n",
    "\n",
    "if a%15 == 0:\n",
    "    print(\"FizzBuzz\")\n",
    "elif(a % 3 == 0):\n",
    "    print(\"Fizz\")\n",
    "elif a % 5 == 0:\n",
    "    print(\"Buzz\")\n"
   ]
  }
 ],
 "metadata": {
  "kernelspec": {
   "display_name": "Python 3",
   "language": "python",
   "name": "python3"
  },
  "language_info": {
   "codemirror_mode": {
    "name": "ipython",
    "version": 3
   },
   "file_extension": ".py",
   "mimetype": "text/x-python",
   "name": "python",
   "nbconvert_exporter": "python",
   "pygments_lexer": "ipython3",
   "version": "3.9.2"
  }
 },
 "nbformat": 4,
 "nbformat_minor": 5
}
