{
 "cells": [
  {
   "cell_type": "markdown",
   "id": "449b1aa7",
   "metadata": {},
   "source": [
    "Modules in Python"
   ]
  },
  {
   "cell_type": "code",
   "execution_count": null,
   "id": "82c23480",
   "metadata": {},
   "outputs": [],
   "source": [
    "def Square(n):\n",
    "    return n**2\n",
    "\n",
    "def Cube(n):\n",
    "    return n**3\n",
    "\n",
    "def factorial(n):\n",
    "    if(n==1 or n==0):\n",
    "        return 1\n",
    "    return n*factorial(n-1)\n",
    "\n",
    "def add(a,b):\n",
    "    return a+b\n",
    "\n",
    "def subtract:\n",
    "    return a-b\n",
    "\n",
    "def multiply(a,b):\n",
    "    return a*b\n",
    "\n",
    "def divide(a,b):\n",
    "    if b==0:\n",
    "        return \"Can't divide by 0\"\n",
    "    return a/b\n",
    "\n"
   ]
  },
  {
   "cell_type": "code",
   "execution_count": 6,
   "id": "4419e407",
   "metadata": {},
   "outputs": [
    {
     "name": "stdout",
     "output_type": "stream",
     "text": [
      "The result is 30414093201713378043612608166064768844377641568960512000000000000\n"
     ]
    }
   ],
   "source": [
    "import Calculator as calc\n",
    "\n",
    "factorial_res = calc.factorial(50)\n",
    "print(f\"The result is {factorial_res}\" )"
   ]
  },
  {
   "cell_type": "code",
   "execution_count": 8,
   "id": "dec692b7",
   "metadata": {},
   "outputs": [
    {
     "name": "stdout",
     "output_type": "stream",
     "text": [
      " The Square is 2025\n"
     ]
    }
   ],
   "source": [
    "square_res = calc.Square(45)\n",
    "\n",
    "print(f\" The Square is {square_res}\")"
   ]
  },
  {
   "cell_type": "code",
   "execution_count": 9,
   "id": "dafdd41c",
   "metadata": {},
   "outputs": [
    {
     "name": "stdout",
     "output_type": "stream",
     "text": [
      "The subtraction is 12 \n"
     ]
    }
   ],
   "source": [
    "Subtract_res = calc.subtract(50, 38)\n",
    "print(f\"The subtraction is {Subtract_res} \")"
   ]
  },
  {
   "cell_type": "code",
   "execution_count": 24,
   "id": "9853d352",
   "metadata": {},
   "outputs": [
    {
     "name": "stdout",
     "output_type": "stream",
     "text": [
      "Rohit\n",
      "Not a Palindrome\n",
      "Not a Palindrome\n"
     ]
    }
   ],
   "source": [
    "import strings_util as str_op\n",
    "\n",
    "print(str_op.reverse_string(\"Rohit\"))\n",
    "\n",
    "\n",
    "a = str_op.palindrome(\"madam\")\n",
    "print(str_op.palindrome(\"Rohit\"))\n",
    "print(a)"
   ]
  },
  {
   "cell_type": "markdown",
   "id": "3e8ea6bb",
   "metadata": {},
   "source": [
    "File Handling in Python"
   ]
  },
  {
   "cell_type": "code",
   "execution_count": 1,
   "id": "7a84795f",
   "metadata": {},
   "outputs": [
    {
     "name": "stdout",
     "output_type": "stream",
     "text": [
      "My name is Rohit Nimangre\n",
      "I am currently working as a Trainee Engineer at Bharat Electronics Limited, also learning Data Science. \n"
     ]
    }
   ],
   "source": [
    "file = open('./text.txt','r')\n",
    "content = file.read()\n",
    "print(content)"
   ]
  },
  {
   "cell_type": "code",
   "execution_count": 10,
   "id": "777d928b",
   "metadata": {},
   "outputs": [
    {
     "name": "stdout",
     "output_type": "stream",
     "text": [
      " --- : My nam\n"
     ]
    }
   ],
   "source": [
    "file = open('./text.txt','r')\n",
    "print(\" --- : \"+ file.read(6))\n"
   ]
  },
  {
   "cell_type": "code",
   "execution_count": 26,
   "id": "406ef4c9",
   "metadata": {},
   "outputs": [
    {
     "name": "stdout",
     "output_type": "stream",
     "text": [
      "My name is Rohit Nimangre\n",
      "\n",
      "I am currently working as a Trainee Engineer at Bharat Electronics Limited, also learning Data Science. \n"
     ]
    }
   ],
   "source": [
    "file = open('./text.txt','r')\n",
    "print(file.readline())\n",
    "print(file.readline())"
   ]
  },
  {
   "cell_type": "code",
   "execution_count": 27,
   "id": "b3a8fc76",
   "metadata": {},
   "outputs": [
    {
     "name": "stdout",
     "output_type": "stream",
     "text": [
      "['My name is Rohit Nimangre\\n', 'I am currently working as a Trainee Engineer at Bharat Electronics Limited, also learning Data Science. ']\n"
     ]
    }
   ],
   "source": [
    "file = open('./text.txt','r')\n",
    "print(file.readlines())"
   ]
  },
  {
   "cell_type": "code",
   "execution_count": null,
   "id": "130a4be8",
   "metadata": {},
   "outputs": [
    {
     "name": "stdout",
     "output_type": "stream",
     "text": [
      "try\n",
      "Exception : File Not found Exception\n",
      "Closing the file.\n"
     ]
    }
   ],
   "source": [
    "try:\n",
    "    print(\"try\")\n",
    "    new_file = open('new_text.txt', 'r')\n",
    "    lines = new_file.readlines()\n",
    "    # lines = new_content.readlines()\n",
    "except(FileNotFoundError):\n",
    "    print(\"Exception : File Not found Exception\" )\n",
    "else:\n",
    "    print(\"else\")\n",
    "    for line in lines:\n",
    "        print(line)\n",
    "    \n",
    "finally:\n",
    "    print(\"Closing the file.\")\n",
    "    new_file.close()"
   ]
  },
  {
   "cell_type": "code",
   "execution_count": null,
   "id": "d81173e0",
   "metadata": {},
   "outputs": [
    {
     "name": "stdout",
     "output_type": "stream",
     "text": [
      "try\n",
      "else\n",
      "Closing the file.\n"
     ]
    }
   ],
   "source": [
    "try:\n",
    "    print(\"try\")\n",
    "    new_file = open('new_text.txt', 'w')\n",
    "    # creates a new file if file is not present and creates empty file and also if file is already present. \n",
    "   \n",
    "except(FileNotFoundError):\n",
    "    print(\"Exception : File Not found Exception\" )\n",
    "else:\n",
    "    print(\"else\")\n",
    "    new_file.write(\"Hi This is Rohit from Bangalore. \\n We will see until next.\")\n",
    "    for line in lines:\n",
    "        print(line)\n",
    "    \n",
    "finally:\n",
    "    print(\"Closing the file.\")\n",
    "    new_file.close()"
   ]
  },
  {
   "cell_type": "code",
   "execution_count": 47,
   "id": "54f43437",
   "metadata": {},
   "outputs": [
    {
     "name": "stdout",
     "output_type": "stream",
     "text": [
      "try\n",
      "else\n",
      "65\n",
      "Closing the file.\n"
     ]
    }
   ],
   "source": [
    "try:\n",
    "    print(\"try\")\n",
    "    new_file = open('textwe.txt', 'a')\n",
    "    # creates a file if not present\n",
    "    # appends the sentence if things are present already in file\n",
    "   \n",
    "except(FileNotFoundError):\n",
    "    print(\"Exception : File Not found Exception\" )\n",
    "else:\n",
    "    print(\"else\")\n",
    "    for line in lines:\n",
    "        print(line)\n",
    "    \n",
    "    content = new_file.write(\"I have my brother named Rohan. ohit njnsflfld;gl \\n Just Love me .\")\n",
    "    print(content)\n",
    "    \n",
    "finally:\n",
    "    print(\"Closing the file.\")\n",
    "    new_file.close()"
   ]
  }
 ],
 "metadata": {
  "kernelspec": {
   "display_name": "Python 3",
   "language": "python",
   "name": "python3"
  },
  "language_info": {
   "codemirror_mode": {
    "name": "ipython",
    "version": 3
   },
   "file_extension": ".py",
   "mimetype": "text/x-python",
   "name": "python",
   "nbconvert_exporter": "python",
   "pygments_lexer": "ipython3",
   "version": "3.9.2"
  }
 },
 "nbformat": 4,
 "nbformat_minor": 5
}
