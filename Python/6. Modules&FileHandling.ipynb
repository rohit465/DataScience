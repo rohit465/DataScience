{
 "cells": [
  {
   "cell_type": "markdown",
   "id": "449b1aa7",
   "metadata": {},
   "source": [
    "Modules in Python"
   ]
  },
  {
   "cell_type": "code",
   "execution_count": null,
   "id": "82c23480",
   "metadata": {},
   "outputs": [],
   "source": [
    "def Square(n):\n",
    "    return n**2\n",
    "\n",
    "def Cube(n):\n",
    "    return n**3\n",
    "\n",
    "def factorial(n):\n",
    "    if(n==1 or n==0):\n",
    "        return 1\n",
    "    return n*factorial(n-1)\n",
    "\n",
    "def add(a,b):\n",
    "    return a+b\n",
    "\n",
    "def subtract:\n",
    "    return a-b\n",
    "\n",
    "def multiply(a,b):\n",
    "    return a*b\n",
    "\n",
    "def divide(a,b):\n",
    "    if b==0:\n",
    "        return \"Can't divide by 0\"\n",
    "    return a/b\n",
    "\n"
   ]
  },
  {
   "cell_type": "code",
   "execution_count": 6,
   "id": "4419e407",
   "metadata": {},
   "outputs": [
    {
     "name": "stdout",
     "output_type": "stream",
     "text": [
      "The result is 30414093201713378043612608166064768844377641568960512000000000000\n"
     ]
    }
   ],
   "source": [
    "import Calculator as calc\n",
    "\n",
    "factorial_res = calc.factorial(50)\n",
    "print(f\"The result is {factorial_res}\" )"
   ]
  },
  {
   "cell_type": "code",
   "execution_count": 8,
   "id": "dec692b7",
   "metadata": {},
   "outputs": [
    {
     "name": "stdout",
     "output_type": "stream",
     "text": [
      " The Square is 2025\n"
     ]
    }
   ],
   "source": [
    "square_res = calc.Square(45)\n",
    "\n",
    "print(f\" The Square is {square_res}\")"
   ]
  },
  {
   "cell_type": "code",
   "execution_count": 9,
   "id": "dafdd41c",
   "metadata": {},
   "outputs": [
    {
     "name": "stdout",
     "output_type": "stream",
     "text": [
      "The subtraction is 12 \n"
     ]
    }
   ],
   "source": [
    "Subtract_res = calc.subtract(50, 38)\n",
    "print(f\"The subtraction is {Subtract_res} \")"
   ]
  },
  {
   "cell_type": "code",
   "execution_count": 24,
   "id": "9853d352",
   "metadata": {},
   "outputs": [
    {
     "name": "stdout",
     "output_type": "stream",
     "text": [
      "Rohit\n",
      "Not a Palindrome\n",
      "Not a Palindrome\n"
     ]
    }
   ],
   "source": [
    "import strings_util as str_op\n",
    "\n",
    "print(str_op.reverse_string(\"Rohit\"))\n",
    "\n",
    "\n",
    "a = str_op.palindrome(\"madam\")\n",
    "print(str_op.palindrome(\"Rohit\"))\n",
    "print(a)"
   ]
  },
  {
   "cell_type": "markdown",
   "id": "3e8ea6bb",
   "metadata": {},
   "source": [
    "File Handling in Python"
   ]
  },
  {
   "cell_type": "code",
   "execution_count": 1,
   "id": "7a84795f",
   "metadata": {},
   "outputs": [
    {
     "name": "stdout",
     "output_type": "stream",
     "text": [
      "My name is Rohit Nimangre\n",
      "I am currently working as a Trainee Engineer at Bharat Electronics Limited, also learning Data Science. \n"
     ]
    }
   ],
   "source": [
    "file = open('./text.txt','r')\n",
    "content = file.read()\n",
    "print(content)"
   ]
  },
  {
   "cell_type": "code",
   "execution_count": 10,
   "id": "777d928b",
   "metadata": {},
   "outputs": [
    {
     "name": "stdout",
     "output_type": "stream",
     "text": [
      " --- : My nam\n"
     ]
    }
   ],
   "source": [
    "file = open('./text.txt','r')\n",
    "print(\" --- : \"+ file.read(6))\n"
   ]
  },
  {
   "cell_type": "code",
   "execution_count": 26,
   "id": "406ef4c9",
   "metadata": {},
   "outputs": [
    {
     "name": "stdout",
     "output_type": "stream",
     "text": [
      "My name is Rohit Nimangre\n",
      "\n",
      "I am currently working as a Trainee Engineer at Bharat Electronics Limited, also learning Data Science. \n"
     ]
    }
   ],
   "source": [
    "file = open('./text.txt','r')\n",
    "print(file.readline())\n",
    "print(file.readline())"
   ]
  },
  {
   "cell_type": "code",
   "execution_count": 27,
   "id": "b3a8fc76",
   "metadata": {},
   "outputs": [
    {
     "name": "stdout",
     "output_type": "stream",
     "text": [
      "['My name is Rohit Nimangre\\n', 'I am currently working as a Trainee Engineer at Bharat Electronics Limited, also learning Data Science. ']\n"
     ]
    }
   ],
   "source": [
    "file = open('./text.txt','r')\n",
    "print(file.readlines())"
   ]
  },
  {
   "cell_type": "code",
   "execution_count": null,
   "id": "130a4be8",
   "metadata": {},
   "outputs": [
    {
     "name": "stdout",
     "output_type": "stream",
     "text": [
      "try\n",
      "Exception : File Not found Exception\n",
      "Closing the file.\n"
     ]
    }
   ],
   "source": [
    "try:\n",
    "    print(\"try\")\n",
    "    new_file = open('new_text.txt', 'r')\n",
    "    lines = new_file.readlines()\n",
    "    # lines = new_content.readlines()\n",
    "except(FileNotFoundError):\n",
    "    print(\"Exception : File Not found Exception\" )\n",
    "else:\n",
    "    print(\"else\")\n",
    "    for line in lines:\n",
    "        print(line)\n",
    "    \n",
    "finally:\n",
    "    print(\"Closing the file.\")\n",
    "    new_file.close()"
   ]
  },
  {
   "cell_type": "code",
   "execution_count": null,
   "id": "d81173e0",
   "metadata": {},
   "outputs": [
    {
     "name": "stdout",
     "output_type": "stream",
     "text": [
      "try\n",
      "else\n",
      "Closing the file.\n"
     ]
    }
   ],
   "source": [
    "#  to write in file with 'w' mode \n",
    "#     - if file is not present then it will create new file and add content.\n",
    "#     - if file exist then it will open the file but it will erase the exiating content.\n",
    "\n",
    "try:\n",
    "    print(\"try\")\n",
    "    new_file = open('new_text.txt', 'w')\n",
    "    # creates a new file if file is not present and creates empty file and also if file is already present. \n",
    "   \n",
    "except(FileNotFoundError):\n",
    "    print(\"Exception : File Not found Exception\" )\n",
    "else:\n",
    "    print(\"else\")\n",
    "    new_file.write(\"Hi This is Rohit from Bangalore. \\n We will see until next.\")\n",
    "    for line in lines:\n",
    "        print(line)\n",
    "    \n",
    "finally:\n",
    "    print(\"Closing the file.\")\n",
    "    new_file.close()"
   ]
  },
  {
   "cell_type": "code",
   "execution_count": null,
   "id": "54f43437",
   "metadata": {},
   "outputs": [
    {
     "name": "stdout",
     "output_type": "stream",
     "text": [
      "try\n",
      "else\n",
      "65\n",
      "Closing the file.\n"
     ]
    }
   ],
   "source": [
    "# to append the content in existig file with mode 'a' - append\n",
    "\n",
    "try:\n",
    "    print(\"try\")\n",
    "    new_file = open('textwe.txt', 'a')\n",
    "    # creates a file if not present\n",
    "    # appends the sentence if things are present already in file\n",
    "   \n",
    "except(FileNotFoundError):\n",
    "    print(\"Exception : File Not found Exception\" )\n",
    "else:\n",
    "    print(\"else\")\n",
    "    for line in lines:\n",
    "        print(line)\n",
    "    \n",
    "    content = new_file.write(\"I have my brother named Rohan. ohit njnsflfld;gl \\n Just Love me .\")\n",
    "    print(content)\n",
    "    \n",
    "finally:\n",
    "    print(\"Closing the file.\")\n",
    "    new_file.close()"
   ]
  },
  {
   "cell_type": "code",
   "execution_count": null,
   "id": "64beccab",
   "metadata": {},
   "outputs": [
    {
     "name": "stdout",
     "output_type": "stream",
     "text": [
      "Success\n",
      "Hey! When Will I reach at good position. \n",
      "\n",
      " Let me Know .\n"
     ]
    }
   ],
   "source": [
    "# To create exculisvely file 'x'\n",
    "#  which means create file only if it's not present with mode 'x' else it will give exception\n",
    "\n",
    "try:\n",
    "    file = open(\"./Rohittt.txt\", \"x\")\n",
    "    file.write(\"Hey! When Will I reach at good position. \\n Let me Know .\")\n",
    "    file.close()\n",
    "    print(\"Success\")\n",
    "except FileExistsError:\n",
    "    print(\"File Already Exist can't create same file.\")\n",
    "except Exception:\n",
    "    print(\"An unexpected Exception occured.\")\n",
    "\n",
    "with open(\"./Rohit.txt\", 'r') as filee:\n",
    "    for line in filee.readlines():\n",
    "        print(line)\n"
   ]
  },
  {
   "cell_type": "code",
   "execution_count": 17,
   "id": "5259d2fa",
   "metadata": {},
   "outputs": [
    {
     "name": "stdout",
     "output_type": "stream",
     "text": [
      "removed file ./Rohittt.txt\n"
     ]
    }
   ],
   "source": [
    "#  To delete File\n",
    "import os\n",
    "file_path = './Rohittt.txt'\n",
    "\n",
    "try:\n",
    "    os.remove(file_path)\n",
    "    print(f'removed file {file_path}')\n",
    "except FileNotFoundError:\n",
    "    print(f'File Does not Exist at path {file_path}')\n",
    "except PermissionError:\n",
    "    print(f'You have no permission to delete {file_path}' )\n",
    "except Exception:\n",
    "    print('Unknow Exception Occured.')\n"
   ]
  }
 ],
 "metadata": {
  "kernelspec": {
   "display_name": "Python 3",
   "language": "python",
   "name": "python3"
  },
  "language_info": {
   "codemirror_mode": {
    "name": "ipython",
    "version": 3
   },
   "file_extension": ".py",
   "mimetype": "text/x-python",
   "name": "python",
   "nbconvert_exporter": "python",
   "pygments_lexer": "ipython3",
   "version": "3.9.2"
  }
 },
 "nbformat": 4,
 "nbformat_minor": 5
}
