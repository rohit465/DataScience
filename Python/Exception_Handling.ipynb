{
  "nbformat": 4,
  "nbformat_minor": 0,
  "metadata": {
    "colab": {
      "provenance": [],
      "authorship_tag": "ABX9TyNiTDnswEP0LXuNfW3tosFB",
      "include_colab_link": true
    },
    "kernelspec": {
      "name": "python3",
      "display_name": "Python 3"
    },
    "language_info": {
      "name": "python"
    }
  },
  "cells": [
    {
      "cell_type": "markdown",
      "metadata": {
        "id": "view-in-github",
        "colab_type": "text"
      },
      "source": [
        "<a href=\"https://colab.research.google.com/github/rohit465/DataScience/blob/master/Exception_Handling.ipynb\" target=\"_parent\"><img src=\"https://colab.research.google.com/assets/colab-badge.svg\" alt=\"Open In Colab\"/></a>"
      ]
    },
    {
      "cell_type": "code",
      "execution_count": null,
      "metadata": {
        "colab": {
          "base_uri": "https://localhost:8080/"
        },
        "id": "lcCQl1IaXDzo",
        "outputId": "f4dadde3-fcca-4df8-a148-c068944b1a37"
      },
      "outputs": [
        {
          "output_type": "stream",
          "name": "stdout",
          "text": [
            "Enter a number to divide : 4\n",
            "5.0\n",
            "REsult is :  5.0\n",
            "Execution Completed\n"
          ]
        }
      ],
      "source": [
        "try:\n",
        "  # critical code\n",
        "  n = int(input(\"Enter a number to divide : \"))\n",
        "  num = 20/n\n",
        "  print(num)\n",
        "except ZeroDivisionError:\n",
        "  ## handle the error/exception\n",
        "  print('Cant divide by 0')\n",
        "\n",
        "else:\n",
        "  # will be executed only if try block gets succeeded\n",
        "  print(\"REsult is : \", num)\n",
        "\n",
        "finally:\n",
        "  #get executed independetly of try and except , typically used for cleanup actions like closing db connection or closing file\n",
        "  print(\"Execution Completed\")"
      ]
    },
    {
      "cell_type": "code",
      "source": [
        "try:\n",
        "  my_list = [1,2,3,4,5,6,7,8,9,10]\n",
        "  print(my_list[0])\n",
        "  result = my_list[0]\n",
        "except IndexError:\n",
        "  print(\"An Error Ocurred Index\")\n",
        "except:\n",
        "  print(\"An Error Ocurred \")\n",
        "else:\n",
        "  print(result)\n",
        "finally:\n",
        "  print(\"Execution Completed\")"
      ],
      "metadata": {
        "colab": {
          "base_uri": "https://localhost:8080/"
        },
        "id": "v1NhtqQO8-Fb",
        "outputId": "36351b8b-8a56-496b-d7a8-fa05aa62988f"
      },
      "execution_count": null,
      "outputs": [
        {
          "output_type": "stream",
          "name": "stdout",
          "text": [
            "An Error Ocurred \n",
            "Execution Completed\n"
          ]
        }
      ]
    },
    {
      "cell_type": "code",
      "source": [
        "my_dict = {\"name\":\"Rohit\", \"age\":25}\n",
        "\n",
        "try:\n",
        "  print(\"1\")\n",
        "  heibe = my_dict[\"mail\"]\n",
        "  print(2)\n",
        "  print(my_dict[\"mail\"])\n",
        "\n",
        "except:\n",
        "    print(\"Error occured while accessing unavailable key : \")\n",
        "else:\n",
        "  print(heibe)\n",
        "finally:\n",
        "  print(\"Execution Completed\")\n"
      ],
      "metadata": {
        "colab": {
          "base_uri": "https://localhost:8080/"
        },
        "id": "8D6yVF-T-STg",
        "outputId": "fdca2b82-bf3c-4fbb-f057-5fbfea750152"
      },
      "execution_count": null,
      "outputs": [
        {
          "output_type": "stream",
          "name": "stdout",
          "text": [
            "1\n",
            "2\n",
            "Error occured while accessing unavailable key : \n",
            "Execution Completed\n"
          ]
        }
      ]
    },
    {
      "cell_type": "code",
      "source": [
        "x = 80\n",
        "if x > 67:\n",
        "  raise ValueError(\"No Value allowed\")"
      ],
      "metadata": {
        "colab": {
          "base_uri": "https://localhost:8080/",
          "height": 176
        },
        "id": "7a4EdRwiAtYx",
        "outputId": "c5805d17-1777-4955-e807-2b74458f6311"
      },
      "execution_count": null,
      "outputs": [
        {
          "output_type": "error",
          "ename": "ValueError",
          "evalue": "No Value allowed",
          "traceback": [
            "\u001b[0;31m---------------------------------------------------------------------------\u001b[0m",
            "\u001b[0;31mValueError\u001b[0m                                Traceback (most recent call last)",
            "\u001b[0;32m/tmp/ipython-input-17-4241747453.py\u001b[0m in \u001b[0;36m<cell line: 0>\u001b[0;34m()\u001b[0m\n\u001b[1;32m      1\u001b[0m \u001b[0mx\u001b[0m \u001b[0;34m=\u001b[0m \u001b[0;36m80\u001b[0m\u001b[0;34m\u001b[0m\u001b[0;34m\u001b[0m\u001b[0m\n\u001b[1;32m      2\u001b[0m \u001b[0;32mif\u001b[0m \u001b[0mx\u001b[0m \u001b[0;34m>\u001b[0m \u001b[0;36m67\u001b[0m\u001b[0;34m:\u001b[0m\u001b[0;34m\u001b[0m\u001b[0;34m\u001b[0m\u001b[0m\n\u001b[0;32m----> 3\u001b[0;31m   \u001b[0;32mraise\u001b[0m \u001b[0mValueError\u001b[0m\u001b[0;34m(\u001b[0m\u001b[0;34m\"No Value allowed\"\u001b[0m\u001b[0;34m)\u001b[0m\u001b[0;34m\u001b[0m\u001b[0;34m\u001b[0m\u001b[0m\n\u001b[0m",
            "\u001b[0;31mValueError\u001b[0m: No Value allowed"
          ]
        }
      ]
    },
    {
      "cell_type": "code",
      "source": [
        "def sum_of_two_numbers(nums:list[int], target:int):\n",
        "    # your code here\n",
        "    listt = []\n",
        "    for i in range(len(nums)):\n",
        "        for j in range(len(nums)):\n",
        "            if target == nums[i] + nums[j]:\n",
        "                listt.append(i)\n",
        "                listt.append(j)\n",
        "                return listt\n",
        "\n",
        "    return listt\n",
        "\n",
        "# Main function\n",
        "if __name__ == \"__main__\":\n",
        "    # Example lists (you can change this for different inputs)\n",
        "    nums = [2,3,5,8]\n",
        "    target = 13\n",
        "\n",
        "    # Please do not change the below code\n",
        "    print(sum_of_two_numbers(nums, target), end=\"\")"
      ],
      "metadata": {
        "colab": {
          "base_uri": "https://localhost:8080/"
        },
        "id": "Mp4inEqHc2kg",
        "outputId": "b20b6791-7a7b-468f-ea29-83a9e665e3b6"
      },
      "execution_count": 1,
      "outputs": [
        {
          "output_type": "stream",
          "name": "stdout",
          "text": [
            "[2, 3]"
          ]
        }
      ]
    }
  ]
}