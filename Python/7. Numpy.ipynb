{
 "cells": [
  {
   "cell_type": "markdown",
   "id": "d57274de",
   "metadata": {},
   "source": [
    "Numpy"
   ]
  },
  {
   "cell_type": "code",
   "execution_count": 21,
   "id": "06484cdc",
   "metadata": {},
   "outputs": [
    {
     "name": "stdout",
     "output_type": "stream",
     "text": [
      "[1 2 3 4 5]\n",
      "1\n",
      "(5,)\n"
     ]
    }
   ],
   "source": [
    "import numpy as np\n",
    "\n",
    "array_from_list = np.array([1,2,3,4,5])\n",
    "print(array_from_list)\n",
    "type(array_from_list)\n",
    "print(array_from_list.ndim)\n",
    "print(array_from_list.shape)\n"
   ]
  },
  {
   "cell_type": "code",
   "execution_count": 7,
   "id": "43a7c12f",
   "metadata": {},
   "outputs": [
    {
     "name": "stdout",
     "output_type": "stream",
     "text": [
      "[1 2 3 4 5]\n"
     ]
    },
    {
     "data": {
      "text/plain": [
       "numpy.ndarray"
      ]
     },
     "execution_count": 7,
     "metadata": {},
     "output_type": "execute_result"
    }
   ],
   "source": [
    "# array_from_tuple_error = np.array(1,2,3,4,5) // gives error  array() takes from 1 to 2 positional arguments but 5 were given\n",
    "array_from_tuple = np.array((1,2,3,4,5))\n",
    "print(array_from_tuple)\n",
    "type(array_from_tuple)"
   ]
  },
  {
   "cell_type": "code",
   "execution_count": 23,
   "id": "067446aa",
   "metadata": {},
   "outputs": [
    {
     "name": "stdout",
     "output_type": "stream",
     "text": [
      "[[1 2 3]\n",
      " [4 5 6]\n",
      " [7 8 9]]\n",
      "2\n",
      "(3, 3)\n"
     ]
    }
   ],
   "source": [
    "array_2d = np.array([[1,2,3],\n",
    "                     [4,5,6],\n",
    "                     [7,8,9]])\n",
    "print(array_2d)\n",
    "print(array_2d.ndim)\n",
    "print(array_2d.shape)"
   ]
  },
  {
   "cell_type": "code",
   "execution_count": 29,
   "id": "3b0f255d",
   "metadata": {},
   "outputs": [
    {
     "name": "stdout",
     "output_type": "stream",
     "text": [
      "[[[1 2 3]\n",
      "  [4 5 6]\n",
      "  [7 8 9]]]\n",
      "3\n",
      "(1, 3, 3)\n",
      "[[[1 2]\n",
      "  [3 4]]\n",
      "\n",
      " [[5 6]\n",
      "  [7 8]]]\n",
      "3\n",
      "(2, 2, 2)\n"
     ]
    }
   ],
   "source": [
    "array_3d = np.array([[[1,2,3],\n",
    "                      [4,5,6],\n",
    "                      [7,8,9]]])  # 1 block, 3 row, 3 cols\n",
    "array_3d_1 = np.array([[[1,2],[3,4]],[[5,6],[7,8]]])  # 2 block, 2 row, 2 cols\n",
    "\n",
    "print(array_3d)\n",
    "print(array_3d.ndim)\n",
    "print(array_3d.shape)\n",
    "\n",
    "print(array_3d_1)\n",
    "print(array_3d_1.ndim)\n",
    "print(array_3d_1.shape)\n"
   ]
  },
  {
   "cell_type": "code",
   "execution_count": null,
   "id": "7b349624",
   "metadata": {},
   "outputs": [
    {
     "data": {
      "text/plain": [
       "array([[[[1, 2, 3],\n",
       "         [4, 5, 6],\n",
       "         [7, 8, 9]]]])"
      ]
     },
     "execution_count": 16,
     "metadata": {},
     "output_type": "execute_result"
    }
   ],
   "source": [
    "array_4d = np.array([[[[1,2,3],\n",
    "                       [4,5,6],\n",
    "                       [7,8,9]]]])\n",
    "array_4d"
   ]
  },
  {
   "cell_type": "code",
   "execution_count": null,
   "id": "38a50f77",
   "metadata": {},
   "outputs": [
    {
     "name": "stdout",
     "output_type": "stream",
     "text": [
      "['1' '2' '3' 'a']\n",
      "<U11\n"
     ]
    }
   ],
   "source": [
    "array_1 = np.array([1,2,3,'a'])\n",
    "\n",
    "print(array_1)\n",
    "print(array_1.dtype) # converts into string/ U11 as it is more feasibe to convert the number into str. Homogeneos type"
   ]
  },
  {
   "cell_type": "code",
   "execution_count": null,
   "id": "44f777d4",
   "metadata": {},
   "outputs": [
    {
     "name": "stdout",
     "output_type": "stream",
     "text": [
      "[2.   3.   4.3  5.77]\n",
      "float64\n"
     ]
    }
   ],
   "source": [
    "array_2 = np.array([2,3,4.3, 5.77])\n",
    "print(array_2)\n",
    "print(array_2.dtype) # converted the int into float "
   ]
  },
  {
   "cell_type": "code",
   "execution_count": 33,
   "id": "6d1f34a8",
   "metadata": {},
   "outputs": [
    {
     "name": "stdout",
     "output_type": "stream",
     "text": [
      "Item size of array_2  8  byte\n",
      " size of array_2  32  byte\n"
     ]
    }
   ],
   "source": [
    "print(\"Item size of array_2 \", array_2.itemsize,\" byte\")\n",
    "# itemsize return the size of each index  , here it's 8 bytes and if we want to know the size of array then multiply it by no.of items * itemsize\n",
    "\n",
    "print(\" size of array_2 \", array_2.itemsize * len(array_2),\" byte\")"
   ]
  },
  {
   "cell_type": "markdown",
   "id": "b3d45e5a",
   "metadata": {},
   "source": [
    "Indexing and Slicing"
   ]
  },
  {
   "cell_type": "code",
   "execution_count": 43,
   "id": "4d527e59",
   "metadata": {},
   "outputs": [
    {
     "name": "stdout",
     "output_type": "stream",
     "text": [
      "3\n",
      "[1 2 3]\n",
      "3\n",
      "6\n",
      "[[1 2 3]\n",
      " [4 5 6]\n",
      " [7 8 9]]\n",
      "[4 5 6]\n",
      "6\n",
      "[[5 6]\n",
      " [7 8]]\n",
      "[7 8]\n",
      "7\n"
     ]
    }
   ],
   "source": [
    "print(array_from_list[2])\n",
    "print(array_2d[0])\n",
    "print(array_2d[0][2])\n",
    "print(array_2d[1][2])\n",
    "\n",
    "print(array_3d[0])\n",
    "print(array_3d[0][1])\n",
    "print(array_3d[0][1][2])\n",
    "\n",
    "\n",
    "print(array_3d_1[1])\n",
    "print(array_3d_1[1][1])\n",
    "print(array_3d_1[1][1][0])"
   ]
  },
  {
   "cell_type": "code",
   "execution_count": null,
   "id": "c7850e7e",
   "metadata": {},
   "outputs": [
    {
     "data": {
      "text/plain": [
       "array([3, 4])"
      ]
     },
     "execution_count": 46,
     "metadata": {},
     "output_type": "execute_result"
    }
   ],
   "source": [
    "array_from_list[2:4]\n",
    "\n"
   ]
  },
  {
   "cell_type": "code",
   "execution_count": 51,
   "id": "8f762046",
   "metadata": {},
   "outputs": [
    {
     "data": {
      "text/plain": [
       "array([[2, 3],\n",
       "       [5, 6]])"
      ]
     },
     "execution_count": 51,
     "metadata": {},
     "output_type": "execute_result"
    }
   ],
   "source": [
    "array_2d[0:2,1:3]"
   ]
  },
  {
   "cell_type": "code",
   "execution_count": 52,
   "id": "2c0e0357",
   "metadata": {},
   "outputs": [
    {
     "data": {
      "text/plain": [
       "array([[5, 6],\n",
       "       [8, 9]])"
      ]
     },
     "execution_count": 52,
     "metadata": {},
     "output_type": "execute_result"
    }
   ],
   "source": [
    "array_2d[1:3, 1:3]"
   ]
  },
  {
   "cell_type": "code",
   "execution_count": 62,
   "id": "08d1ee6d",
   "metadata": {},
   "outputs": [
    {
     "data": {
      "text/plain": [
       "array([[[ 1,  2,  3],\n",
       "        [ 4,  5,  6]],\n",
       "\n",
       "       [[ 7,  8,  9],\n",
       "        [11, 12, 13]],\n",
       "\n",
       "       [[14, 15, 16],\n",
       "        [98, 84,  0]]])"
      ]
     },
     "execution_count": 62,
     "metadata": {},
     "output_type": "execute_result"
    }
   ],
   "source": [
    "array_3d_2 = np.array([[[1,2,3],[4,5,6]],\n",
    "                       [[7,8,9],[11,12,13]],\n",
    "                       [[14,15,16],[98,84,00]]])\n",
    "array_3d_2"
   ]
  },
  {
   "cell_type": "code",
   "execution_count": 64,
   "id": "eea411b4",
   "metadata": {},
   "outputs": [
    {
     "data": {
      "text/plain": [
       "array([[ 5,  6],\n",
       "       [12, 13]])"
      ]
     },
     "execution_count": 64,
     "metadata": {},
     "output_type": "execute_result"
    }
   ],
   "source": [
    "array_3d_2[0:2, 1 , 1:3]"
   ]
  }
 ],
 "metadata": {
  "kernelspec": {
   "display_name": "Python 3",
   "language": "python",
   "name": "python3"
  },
  "language_info": {
   "codemirror_mode": {
    "name": "ipython",
    "version": 3
   },
   "file_extension": ".py",
   "mimetype": "text/x-python",
   "name": "python",
   "nbconvert_exporter": "python",
   "pygments_lexer": "ipython3",
   "version": "3.9.2"
  }
 },
 "nbformat": 4,
 "nbformat_minor": 5
}
