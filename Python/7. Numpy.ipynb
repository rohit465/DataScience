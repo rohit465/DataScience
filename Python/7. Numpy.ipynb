{
 "cells": [
  {
   "cell_type": "markdown",
   "id": "d57274de",
   "metadata": {},
   "source": [
    "Numpy"
   ]
  },
  {
   "cell_type": "code",
   "execution_count": 2,
   "id": "06484cdc",
   "metadata": {},
   "outputs": [
    {
     "name": "stdout",
     "output_type": "stream",
     "text": [
      "[1 2 3 4 5]\n",
      "1\n",
      "(5,)\n"
     ]
    }
   ],
   "source": [
    "import numpy as np\n",
    "\n",
    "array_from_list = np.array([1,2,3,4,5])\n",
    "print(array_from_list)\n",
    "type(array_from_list)\n",
    "print(array_from_list.ndim)\n",
    "print(array_from_list.shape)\n"
   ]
  },
  {
   "cell_type": "code",
   "execution_count": 7,
   "id": "43a7c12f",
   "metadata": {},
   "outputs": [
    {
     "name": "stdout",
     "output_type": "stream",
     "text": [
      "[1 2 3 4 5]\n"
     ]
    },
    {
     "data": {
      "text/plain": [
       "numpy.ndarray"
      ]
     },
     "execution_count": 7,
     "metadata": {},
     "output_type": "execute_result"
    }
   ],
   "source": [
    "# array_from_tuple_error = np.array(1,2,3,4,5) // gives error  array() takes from 1 to 2 positional arguments but 5 were given\n",
    "array_from_tuple = np.array((1,2,3,4,5))\n",
    "print(array_from_tuple)\n",
    "type(array_from_tuple)"
   ]
  },
  {
   "cell_type": "code",
   "execution_count": 23,
   "id": "067446aa",
   "metadata": {},
   "outputs": [
    {
     "name": "stdout",
     "output_type": "stream",
     "text": [
      "[[1 2 3]\n",
      " [4 5 6]\n",
      " [7 8 9]]\n",
      "2\n",
      "(3, 3)\n"
     ]
    }
   ],
   "source": [
    "array_2d = np.array([[1,2,3],\n",
    "                     [4,5,6],\n",
    "                     [7,8,9]])\n",
    "print(array_2d)\n",
    "print(array_2d.ndim)\n",
    "print(array_2d.shape)"
   ]
  },
  {
   "cell_type": "code",
   "execution_count": 29,
   "id": "3b0f255d",
   "metadata": {},
   "outputs": [
    {
     "name": "stdout",
     "output_type": "stream",
     "text": [
      "[[[1 2 3]\n",
      "  [4 5 6]\n",
      "  [7 8 9]]]\n",
      "3\n",
      "(1, 3, 3)\n",
      "[[[1 2]\n",
      "  [3 4]]\n",
      "\n",
      " [[5 6]\n",
      "  [7 8]]]\n",
      "3\n",
      "(2, 2, 2)\n"
     ]
    }
   ],
   "source": [
    "array_3d = np.array([[[1,2,3],\n",
    "                      [4,5,6],\n",
    "                      [7,8,9]]])  # 1 block, 3 row, 3 cols\n",
    "array_3d_1 = np.array([[[1,2],[3,4]],[[5,6],[7,8]]])  # 2 block, 2 row, 2 cols\n",
    "\n",
    "print(array_3d)\n",
    "print(array_3d.ndim)\n",
    "print(array_3d.shape)\n",
    "\n",
    "print(array_3d_1)\n",
    "print(array_3d_1.ndim)\n",
    "print(array_3d_1.shape)\n"
   ]
  },
  {
   "cell_type": "code",
   "execution_count": null,
   "id": "7b349624",
   "metadata": {},
   "outputs": [
    {
     "data": {
      "text/plain": [
       "array([[[[1, 2, 3],\n",
       "         [4, 5, 6],\n",
       "         [7, 8, 9]]]])"
      ]
     },
     "execution_count": 16,
     "metadata": {},
     "output_type": "execute_result"
    }
   ],
   "source": [
    "array_4d = np.array([[[[1,2,3],\n",
    "                       [4,5,6],\n",
    "                       [7,8,9]]]])\n",
    "array_4d"
   ]
  },
  {
   "cell_type": "code",
   "execution_count": null,
   "id": "38a50f77",
   "metadata": {},
   "outputs": [
    {
     "name": "stdout",
     "output_type": "stream",
     "text": [
      "['1' '2' '3' 'a']\n",
      "<U11\n"
     ]
    }
   ],
   "source": [
    "array_1 = np.array([1,2,3,'a'])\n",
    "\n",
    "print(array_1)\n",
    "print(array_1.dtype) # converts into string/ U11 as it is more feasibe to convert the number into str. Homogeneos type"
   ]
  },
  {
   "cell_type": "code",
   "execution_count": null,
   "id": "44f777d4",
   "metadata": {},
   "outputs": [
    {
     "name": "stdout",
     "output_type": "stream",
     "text": [
      "[2.   3.   4.3  5.77]\n",
      "float64\n"
     ]
    }
   ],
   "source": [
    "array_2 = np.array([2,3,4.3, 5.77])\n",
    "print(array_2)\n",
    "print(array_2.dtype) # converted the int into float "
   ]
  },
  {
   "cell_type": "code",
   "execution_count": 33,
   "id": "6d1f34a8",
   "metadata": {},
   "outputs": [
    {
     "name": "stdout",
     "output_type": "stream",
     "text": [
      "Item size of array_2  8  byte\n",
      " size of array_2  32  byte\n"
     ]
    }
   ],
   "source": [
    "print(\"Item size of array_2 \", array_2.itemsize,\" byte\")\n",
    "# itemsize return the size of each index  , here it's 8 bytes and if we want to know the size of array then multiply it by no.of items * itemsize\n",
    "\n",
    "print(\" size of array_2 \", array_2.itemsize * len(array_2),\" byte\")"
   ]
  },
  {
   "cell_type": "markdown",
   "id": "b3d45e5a",
   "metadata": {},
   "source": [
    "Indexing and Slicing"
   ]
  },
  {
   "cell_type": "code",
   "execution_count": 43,
   "id": "4d527e59",
   "metadata": {},
   "outputs": [
    {
     "name": "stdout",
     "output_type": "stream",
     "text": [
      "3\n",
      "[1 2 3]\n",
      "3\n",
      "6\n",
      "[[1 2 3]\n",
      " [4 5 6]\n",
      " [7 8 9]]\n",
      "[4 5 6]\n",
      "6\n",
      "[[5 6]\n",
      " [7 8]]\n",
      "[7 8]\n",
      "7\n"
     ]
    }
   ],
   "source": [
    "print(array_from_list[2])\n",
    "print(array_2d[0])\n",
    "print(array_2d[0][2])\n",
    "print(array_2d[1][2])\n",
    "\n",
    "print(array_3d[0])\n",
    "print(array_3d[0][1])\n",
    "print(array_3d[0][1][2])\n",
    "\n",
    "\n",
    "print(array_3d_1[1])\n",
    "print(array_3d_1[1][1])\n",
    "print(array_3d_1[1][1][0])"
   ]
  },
  {
   "cell_type": "code",
   "execution_count": null,
   "id": "c7850e7e",
   "metadata": {},
   "outputs": [
    {
     "data": {
      "text/plain": [
       "array([3, 4])"
      ]
     },
     "execution_count": 46,
     "metadata": {},
     "output_type": "execute_result"
    }
   ],
   "source": [
    "array_from_list[2:4]\n",
    "\n"
   ]
  },
  {
   "cell_type": "code",
   "execution_count": 51,
   "id": "8f762046",
   "metadata": {},
   "outputs": [
    {
     "data": {
      "text/plain": [
       "array([[2, 3],\n",
       "       [5, 6]])"
      ]
     },
     "execution_count": 51,
     "metadata": {},
     "output_type": "execute_result"
    }
   ],
   "source": [
    "array_2d[0:2,1:3]"
   ]
  },
  {
   "cell_type": "code",
   "execution_count": 52,
   "id": "2c0e0357",
   "metadata": {},
   "outputs": [
    {
     "data": {
      "text/plain": [
       "array([[5, 6],\n",
       "       [8, 9]])"
      ]
     },
     "execution_count": 52,
     "metadata": {},
     "output_type": "execute_result"
    }
   ],
   "source": [
    "array_2d[1:3, 1:3]"
   ]
  },
  {
   "cell_type": "code",
   "execution_count": 48,
   "id": "08d1ee6d",
   "metadata": {},
   "outputs": [
    {
     "data": {
      "text/plain": [
       "array([[[ 1,  2,  3],\n",
       "        [ 4,  5,  6]],\n",
       "\n",
       "       [[ 7,  8,  9],\n",
       "        [11, 12, 13]],\n",
       "\n",
       "       [[14, 15, 16],\n",
       "        [98, 84,  0]]])"
      ]
     },
     "execution_count": 48,
     "metadata": {},
     "output_type": "execute_result"
    }
   ],
   "source": [
    "array_3d_2 = np.array([[[1,2,3],[4,5,6]],\n",
    "                       [[7,8,9],[11,12,13]],\n",
    "                       [[14,15,16],[98,84,00]]])\n",
    "array_3d_2"
   ]
  },
  {
   "cell_type": "code",
   "execution_count": 64,
   "id": "eea411b4",
   "metadata": {},
   "outputs": [
    {
     "data": {
      "text/plain": [
       "array([[ 5,  6],\n",
       "       [12, 13]])"
      ]
     },
     "execution_count": 64,
     "metadata": {},
     "output_type": "execute_result"
    }
   ],
   "source": [
    "array_3d_2[0:2, 1 , 1:3]"
   ]
  },
  {
   "cell_type": "markdown",
   "id": "b01cd022",
   "metadata": {},
   "source": [
    "Arithmetic Operations"
   ]
  },
  {
   "cell_type": "code",
   "execution_count": 3,
   "id": "3d2911ca",
   "metadata": {},
   "outputs": [
    {
     "name": "stdout",
     "output_type": "stream",
     "text": [
      "[[1 2]\n",
      " [3 4]]\n",
      "[[10 11]\n",
      " [12 13]]\n"
     ]
    }
   ],
   "source": [
    "a = np.array([[1,2],[3,4]])\n",
    "b = np.array([[10, 11],[12, 13]])\n",
    "\n",
    "print(a)\n",
    "print(b)"
   ]
  },
  {
   "cell_type": "code",
   "execution_count": 4,
   "id": "de123b77",
   "metadata": {},
   "outputs": [
    {
     "name": "stdout",
     "output_type": "stream",
     "text": [
      "[[11 13]\n",
      " [15 17]]\n"
     ]
    }
   ],
   "source": [
    "print(a + b)"
   ]
  },
  {
   "cell_type": "code",
   "execution_count": 5,
   "id": "358c82e9",
   "metadata": {},
   "outputs": [
    {
     "name": "stdout",
     "output_type": "stream",
     "text": [
      "[[-9 -9]\n",
      " [-9 -9]]\n"
     ]
    }
   ],
   "source": [
    "print(a - b)"
   ]
  },
  {
   "cell_type": "code",
   "execution_count": 6,
   "id": "ee786d89",
   "metadata": {},
   "outputs": [
    {
     "name": "stdout",
     "output_type": "stream",
     "text": [
      "[[10 22]\n",
      " [36 52]]\n"
     ]
    }
   ],
   "source": [
    "print(a * b)"
   ]
  },
  {
   "cell_type": "code",
   "execution_count": 7,
   "id": "0b42700b",
   "metadata": {},
   "outputs": [
    {
     "name": "stdout",
     "output_type": "stream",
     "text": [
      "[[0.1        0.18181818]\n",
      " [0.25       0.30769231]]\n"
     ]
    }
   ],
   "source": [
    "print(a / b)"
   ]
  },
  {
   "cell_type": "code",
   "execution_count": 8,
   "id": "1a5941ca",
   "metadata": {},
   "outputs": [
    {
     "name": "stdout",
     "output_type": "stream",
     "text": [
      "[[10.    5.5 ]\n",
      " [ 4.    3.25]]\n"
     ]
    }
   ],
   "source": [
    "print(b / a)"
   ]
  },
  {
   "cell_type": "code",
   "execution_count": 10,
   "id": "385ea5b4",
   "metadata": {},
   "outputs": [
    {
     "name": "stdout",
     "output_type": "stream",
     "text": [
      "[[0 0]\n",
      " [0 0]]\n",
      "[[10  5]\n",
      " [ 4  3]]\n"
     ]
    }
   ],
   "source": [
    "print(a//b)\n",
    "\n",
    "print(b//a)"
   ]
  },
  {
   "cell_type": "code",
   "execution_count": 12,
   "id": "eecd3ce9",
   "metadata": {},
   "outputs": [
    {
     "name": "stdout",
     "output_type": "stream",
     "text": [
      "[[ 1  4]\n",
      " [ 9 16]]\n",
      "[[1000 1331]\n",
      " [1728 2197]]\n"
     ]
    }
   ],
   "source": [
    "print(a ** 2)\n",
    "print(b ** 3)"
   ]
  },
  {
   "cell_type": "markdown",
   "id": "ed772bf4",
   "metadata": {},
   "source": [
    "Methods in Numpy"
   ]
  },
  {
   "cell_type": "code",
   "execution_count": 26,
   "id": "12f94cb4",
   "metadata": {},
   "outputs": [
    {
     "name": "stdout",
     "output_type": "stream",
     "text": [
      "[[ 1  4  7]\n",
      " [ 2 11  8]\n",
      " [ 3  6  9]]\n"
     ]
    }
   ],
   "source": [
    "c = np.array([[1,2,3],[4,11,6],[7,8,9]])\n",
    "c.shape\n",
    "print(c.transpose())"
   ]
  },
  {
   "cell_type": "code",
   "execution_count": 27,
   "id": "e25294f5",
   "metadata": {},
   "outputs": [
    {
     "name": "stdout",
     "output_type": "stream",
     "text": [
      "[    4    24    43    54 83485]\n",
      "[[ 1  2  3]\n",
      " [ 4  6 11]\n",
      " [ 7  8  9]]\n"
     ]
    }
   ],
   "source": [
    "m  = np.array([83485,43,54,4,24])\n",
    "print(np.sort(m))\n",
    "print(np.sort(c))\n",
    "\n"
   ]
  },
  {
   "cell_type": "code",
   "execution_count": null,
   "id": "2a13d96a",
   "metadata": {},
   "outputs": [
    {
     "name": "stdout",
     "output_type": "stream",
     "text": [
      "[[ 1  2  3]\n",
      " [ 4  8  6]\n",
      " [ 7 11  9]]\n",
      "[[ 1  2  3]\n",
      " [ 4  6 11]\n",
      " [ 7  8  9]]\n"
     ]
    }
   ],
   "source": [
    "c = np.array([[1,2,3],[4,11,6],[7,8,9]])\n",
    "c.shape\n",
    "print(np.sort(c, axis=0))   # sorts cols wise\n",
    "print(np.sort(c, axis=1))  # sorts row wise"
   ]
  },
  {
   "cell_type": "code",
   "execution_count": null,
   "id": "ecce6d86",
   "metadata": {},
   "outputs": [
    {
     "name": "stdout",
     "output_type": "stream",
     "text": [
      "[6 1 0 7 4 2 5 3]\n"
     ]
    }
   ],
   "source": [
    "c = np.array([4,3, 34, 77 ,23,45,1,12])\n",
    "print(np.argsort(c))  #"
   ]
  },
  {
   "cell_type": "code",
   "execution_count": 39,
   "id": "23667727",
   "metadata": {},
   "outputs": [
    {
     "data": {
      "text/plain": [
       "array([ 1,  5,  3, 45,  5,  7])"
      ]
     },
     "execution_count": 39,
     "metadata": {},
     "output_type": "execute_result"
    }
   ],
   "source": [
    "# Concatenation of Arrays\n",
    "\n",
    "arr1  = np.array([1,5,3])\n",
    "arr2 = np.array([45,5,7])\n",
    "\n",
    "np.concatenate((arr1, arr2))\n"
   ]
  },
  {
   "cell_type": "code",
   "execution_count": 49,
   "id": "13717bdb",
   "metadata": {},
   "outputs": [
    {
     "data": {
      "text/plain": [
       "array([ 1,  2,  3,  4,  5,  6,  7,  8,  9, 11, 12, 13, 14, 15, 16, 98, 84,\n",
       "        0])"
      ]
     },
     "execution_count": 49,
     "metadata": {},
     "output_type": "execute_result"
    }
   ],
   "source": [
    "# Reshape\n",
    "\n",
    "array_1 = np.array([1,3,5,6,7,8, 7,0])\n",
    "array_1.reshape(2,4)\n",
    "\n",
    "array_3d_2.reshape(-1)"
   ]
  },
  {
   "cell_type": "code",
   "execution_count": 50,
   "id": "9f2b2a7e",
   "metadata": {},
   "outputs": [
    {
     "data": {
      "text/plain": [
       "[array([1, 3]), array([5, 6]), array([7, 8]), array([7, 0])]"
      ]
     },
     "execution_count": 50,
     "metadata": {},
     "output_type": "execute_result"
    }
   ],
   "source": [
    "# Split\n",
    "\n",
    "np.split(array_1,4)"
   ]
  }
 ],
 "metadata": {
  "kernelspec": {
   "display_name": "Python 3",
   "language": "python",
   "name": "python3"
  },
  "language_info": {
   "codemirror_mode": {
    "name": "ipython",
    "version": 3
   },
   "file_extension": ".py",
   "mimetype": "text/x-python",
   "name": "python",
   "nbconvert_exporter": "python",
   "pygments_lexer": "ipython3",
   "version": "3.9.2"
  }
 },
 "nbformat": 4,
 "nbformat_minor": 5
}
